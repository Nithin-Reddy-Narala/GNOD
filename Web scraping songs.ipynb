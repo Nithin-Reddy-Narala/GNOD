{
 "cells": [
  {
   "cell_type": "code",
   "execution_count": 1,
   "metadata": {},
   "outputs": [],
   "source": [
    "# importing libraries\n",
    "from bs4 import BeautifulSoup\n",
    "import requests\n",
    "import pandas as pd"
   ]
  },
  {
   "cell_type": "code",
   "execution_count": 2,
   "metadata": {},
   "outputs": [],
   "source": [
    "# tokk this from website \n",
    "#chart-position-1 > div.chart-content.col-xs-12.col-sm-8 > p"
   ]
  },
  {
   "cell_type": "code",
   "execution_count": 3,
   "metadata": {},
   "outputs": [],
   "source": [
    "# this is the website to collect the data of top 100 songs\n",
    "url = 'http://www.popvortex.com/music/netherlands/top-songs.php'"
   ]
  },
  {
   "cell_type": "code",
   "execution_count": 4,
   "metadata": {},
   "outputs": [
    {
     "data": {
      "text/plain": [
       "200"
      ]
     },
     "execution_count": 4,
     "metadata": {},
     "output_type": "execute_result"
    }
   ],
   "source": [
    "# download html with a get request\n",
    "response = requests.get(url)\n",
    "response.status_code"
   ]
  },
  {
   "cell_type": "code",
   "execution_count": 5,
   "metadata": {},
   "outputs": [],
   "source": [
    "# parse html (create the 'soup')\n",
    "soup = BeautifulSoup(response.content, \"html.parser\")"
   ]
  },
  {
   "cell_type": "code",
   "execution_count": 6,
   "metadata": {},
   "outputs": [],
   "source": [
    "# checking the html code \n",
    "# soup"
   ]
  },
  {
   "cell_type": "code",
   "execution_count": 7,
   "metadata": {},
   "outputs": [
    {
     "data": {
      "text/plain": [
       "[<div class=\"chart-content col-xs-12 col-sm-8\"><p class=\"title-artist\"><cite class=\"title\">Easy On Me</cite><em class=\"artist\">Adele</em></p><ul><li><strong>Genre</strong>: Pop</li><li><strong>Release Date</strong>: 15-10-2021</li><li class=\"billboard-chart\">Former #1 song on the <cite>Billboard Hot 100</cite> chart.</li></ul><a aria-label=\"Stream Easy On Me - Adele on Apple Music\" class=\"buy-button button\" href=\"https://music.apple.com/nl/album/easy-on-me/1590035691?i=1590036021&amp;uo=2&amp;partnerId=11&amp;at=10l4UI&amp;app=music&amp;ct=music-songs\" rel=\"nofollow noopener\">Listen on Apple Music</a> <a aria-label=\"Buy Easy On Me - Adele on iTunes\" class=\"buy-button button\" href=\"https://music.apple.com/nl/album/easy-on-me/1590035691?i=1590036021&amp;uo=2&amp;partnerId=11&amp;at=10l4UI&amp;app=itunes&amp;ct=music-songs\" rel=\"nofollow noopener\">Buy on iTunes</a> <a aria-label=\"Buy Easy On Me - Adele on Amazon\" class=\"amazon-buy button\" href=\"https://www.amazon.com/gp/search?ie=UTF8&amp;keywords=Easy+On+Me+Adele&amp;tag=popv0f-20&amp;search-alias=digital-music\" rel=\"nofollow noopener\" target=\"_blank\">Buy on Amazon</a> <div class=\"social-share\"><a class=\"facebook-share-button\" href=\"javascript: void(0)\" onclick=\"window.open('https://www.facebook.com/dialog/feed?app_id=178831188827052&amp;display=popup&amp;description=Easy+On+Me+by+Adele+is+currently+at+number+1+on+the+iTunes+Netherlands+top+100+songs+chart.&amp;link=http%3A%2F%2Fwww.popvortex.com%2Fmusic%2Fnetherlands%2Ftop-songs.php&amp;redirect_uri=http%3A%2F%2Fwww.popvortex.com%2Fpopup-close.html&amp;picture=https%3A%2F%2Fis5-ssl.mzstatic.com%2Fimage%2Fthumb%2FMusic115%2Fv4%2F73%2F6d%2F7c%2F736d7cfb-c79d-c9a9-4170-5e71d008dea1%2F886449666430.jpg%2F170x170bb.png','sharer','toolbar=0,status=0,width=548,height=325');\"><img alt=\"Share on Facebook\" height=\"20\" src=\"../../images/facebook-share.png\" width=\"55\"/></a> <a class=\"pinterest-share-button\" data-pin-config=\"none\" data-pin-do=\"buttonPin\" href=\"//pinterest.com/pin/create/button/?url=http%3A%2F%2Fwww.popvortex.com%2Fmusic%2Fnetherlands%2Ftop-songs.php&amp;media=https%3A%2F%2Fis5-ssl.mzstatic.com%2Fimage%2Fthumb%2FMusic115%2Fv4%2F73%2F6d%2F7c%2F736d7cfb-c79d-c9a9-4170-5e71d008dea1%2F886449666430.jpg%2F1200x1200bb.png&amp;description=Easy On Me - Adele\"><img alt=\"Pinterest Button\" src=\"//assets.pinterest.com/images/pidgets/pin_it_button.png\"/></a> <a class=\"tweet-button\" href=\"https://twitter.com/intent/tweet?text=Easy+On+Me+by+Adele+is+%231+on+iTunes+Netherlands+top+100+songs+chart.&amp;hashtags=iTunes&amp;url=http://www.popvortex.com/music/netherlands/top-songs.php\"><span></span>Tweet</a></div></div>]"
      ]
     },
     "execution_count": 7,
     "metadata": {},
     "output_type": "execute_result"
    }
   ],
   "source": [
    "# Extracting the desired info\n",
    "soup.select('#chart-position-1 > div.chart-content.col-xs-12.col-sm-8')"
   ]
  },
  {
   "cell_type": "code",
   "execution_count": 8,
   "metadata": {},
   "outputs": [
    {
     "data": {
      "text/plain": [
       "'Easy On Me'"
      ]
     },
     "execution_count": 8,
     "metadata": {},
     "output_type": "execute_result"
    }
   ],
   "source": [
    "# looking for the title of song\n",
    "soup.cite.get_text()"
   ]
  },
  {
   "cell_type": "code",
   "execution_count": 9,
   "metadata": {},
   "outputs": [
    {
     "data": {
      "text/plain": [
       "'Adele'"
      ]
     },
     "execution_count": 9,
     "metadata": {},
     "output_type": "execute_result"
    }
   ],
   "source": [
    "# looking for the artist \n",
    "soup.em.get_text()"
   ]
  },
  {
   "cell_type": "code",
   "execution_count": 10,
   "metadata": {},
   "outputs": [
    {
     "data": {
      "text/plain": [
       "<cite class=\"title\">Easy On Me</cite>"
      ]
     },
     "execution_count": 10,
     "metadata": {},
     "output_type": "execute_result"
    }
   ],
   "source": [
    "soup.select('cite.title')[0]"
   ]
  },
  {
   "cell_type": "code",
   "execution_count": 11,
   "metadata": {},
   "outputs": [
    {
     "data": {
      "text/plain": [
       "'Easy On Me'"
      ]
     },
     "execution_count": 11,
     "metadata": {},
     "output_type": "execute_result"
    }
   ],
   "source": [
    "soup.select('cite.title')[0].get_text()"
   ]
  },
  {
   "cell_type": "code",
   "execution_count": 12,
   "metadata": {},
   "outputs": [
    {
     "data": {
      "text/plain": [
       "<em class=\"artist\">Adele</em>"
      ]
     },
     "execution_count": 12,
     "metadata": {},
     "output_type": "execute_result"
    }
   ],
   "source": [
    "soup.select('em.artist')[0]"
   ]
  },
  {
   "cell_type": "code",
   "execution_count": 13,
   "metadata": {},
   "outputs": [
    {
     "data": {
      "text/plain": [
       "'Adele'"
      ]
     },
     "execution_count": 13,
     "metadata": {},
     "output_type": "execute_result"
    }
   ],
   "source": [
    "soup.select('em.artist')[0].get_text()"
   ]
  },
  {
   "cell_type": "code",
   "execution_count": 14,
   "metadata": {},
   "outputs": [
    {
     "name": "stdout",
     "output_type": "stream",
     "text": [
      "['Easy On Me', 'Neem Er Één Van Mij', 'Do It To It (feat. Cherish)', 'Dat Heb Jij Gedaan', 'Schiddi Widdi Witt', 'Cold Heart (PNAU Remix)', 'Ons Moeder Zeej Nog', 'Mañana', 'Everybody Needs Somebody To Love', 'Alle Remmen Los', 'Only You', 'Misschien Huil Ik Niet Hard Genoeg', 'Better Days', 'Moth To A Flame', 'Baby Lekker Ding', 'Hold On', \"Tot Over M'n Oren\", 'I Drink Wine', \"Non Stop Vol D'r Op\", 'The Motto', 'Overpass Graffiti', 'Ja Wie Niet Springt (Die Moet Betalen)', 'Hold Me', 'Skyfall', 'Pepas', 'Thunder', 'Amsterdam', 'Hard To Say Goodbye', 'Love Is A Game', 'Streken Van Een Duivel (feat. Frenna)', 'Rolling In the Deep', 'Nothing Else Matters', 'Three Little Birds', \"Don't Look Back in Anger\", 'To Be Loved', 'Nooit Meer Alcohol', 'Wij Gaan Door', 'Dopamine (feat. Eyelar)', 'Vrijmibo', 'Can I Get It', 'In De Nacht', 'Hello', 'Set Fire to the Rain', 'Bohemian Rhapsody', 'Pastorale', 'Happy Birthday', 'Santa Tell Me', 'Tears In Heaven', 'In the End', 'Stairway to Heaven', 'Watermelon Sugar', 'Bad Habits', 'Numb / Encore', 'Born Slippy (Nuxx)', 'Jerusalema (feat. Nomcebo Zikode)', 'Cold Little Heart', 'Leave The Door Open', 'Shivers', \"Theme from Harry's Game\", 'Where Are You Now', 'Sultans of Swing', 'Talk About', 'My Universe', 'Alles Komt Goed', 'Visiting Hours', 'Bad Habits', 'Adore You', 'Sadeness (Part I)', 'Coming Home With Santa', 'Santé', 'Acapulco', 'Everywhere (BBC Children In Need)', 'Nocturne No. 2 in E-Flat Major, Op. 9', 'Hole Hearted', \"It's Beginning to Look a Lot like Christmas\", 'LA FAMA (feat. The Weeknd)', 'Pepas (David Guetta Remix)', 'Thunder (Extended Mix)', 'love nwantiti (feat. ElGrande Toto) [North African Remix]', 'My Heart Goes (La Di Da)', 'STAR', 'FOMO', \"Wouldn't It Be Good\", 'Happy (From \"Despicable Me 2\")', 'Happier Than Ever', \"I'll Never Love Again (Film Version)\", 'Ablaze', 'Loco Loco', 'Understand', 'Shivers (feat. Jessi & SUNMI)', \"Drunk (And I Don't Wanna Go Home)\", 'WFM', 'Vivo', 'Carol of the Bells', 'Absolem Reprise, Pt. 2 (feat. Roc Marciano)', 'presents (feat. Kiana Ledé)', 'Proloog (feat. Danny Talany)', 'So Much To Say', 'Ghetto Gemälde', \"I Don't Like U\"]\n",
      "['Adele', 'Mart Hoogkamer', 'Acraze', 'MEAU', 'Gino Graus', 'Elton John & Dua Lipa', 'Jan Biggel', 'Evert Van Huygevoort', 'Danny Froger & Wesley Klein', 'Helemaal Hollands', 'Rene Le Blanc', 'Bolland & Bolland', 'Dermot Kennedy', 'Swedish House Mafia & The Weeknd', 'Jeffrey Heesen', 'Adele', 'Bob Offenberg', 'Adele', 'Snollebollekes', 'Tiësto & Ava Max', 'Ed Sheeran', 'Gebroeders Ko', 'The Teskey Brothers', 'Adele', 'Farruko', 'Gabry Ponte, LUM!X & Prezioso', 'FLEMMING', 'RONDÉ', 'Adele', 'Bilal Wahib', 'Adele', 'Metallica', 'Bob Marley & The Wailers', 'Oasis', 'Adele', 'Lawineboys', 'Django Wagner & Wolter Kroes', 'Purple Disco Machine', 'Arjon Oostrom', 'Adele', 'Yade Lauren', 'Adele', 'Adele', 'Queen', 'Liesbeth List & Ramses Shaffy', 'Stevie Wonder', 'Ariana Grande', 'Eric Clapton', 'LINKIN PARK', 'Led Zeppelin', 'Harry Styles', 'Ed Sheeran', 'JAY-Z & LINKIN PARK', 'Underworld', 'Master KG', 'Michael Kiwanuka', 'Bruno Mars, Anderson .Paak & Silk Sonic', 'Ed Sheeran', 'Clannad', 'Lost Frequencies & Calum Scott', 'Dire Straits', 'Rain Radio & DJ Craig Gorman', 'Coldplay X BTS', 'Jaap Reesema', 'Ed Sheeran', 'Ed Sheeran', 'Harry Styles', 'Enigma', 'OG3NE', 'Stromae', 'Jason Derulo', 'Niall Horan & Anne-Marie', 'Finghin Collins', 'Extreme', 'Michael Bublé', 'ROSALÍA', 'Farruko & David Guetta', 'Gabry Ponte, LUM!X & Prezioso', 'CKay', 'Becky Hill & Topic', 'ONEWE', 'Hwa Sa', 'Nik Kershaw', 'Pharrell Williams', 'ASTN', 'Lady Gaga & Bradley Cooper', 'Alanis Morissette', 'Hurricane', 'Omah Lay', 'Ed Sheeran', 'Elle King & Miranda Lambert', 'Realestk', 'Andrea Laszlo De Simone', 'August Burns Red', 'DJ Muggs', 'Bryson Tiller', 'NeighbUrs', 'Aaron Carter', 'Anonym & Samra', 'Milky Sad']\n"
     ]
    }
   ],
   "source": [
    "# extracting all the title and artist names form the website\n",
    "title = []\n",
    "artist = []\n",
    "\n",
    "num_iter = len(soup.select('cite.title'))\n",
    "\n",
    "for i in range(num_iter):\n",
    "    title.append(soup.select('cite.title')[i].get_text())\n",
    "    artist.append(soup.select('em.artist')[i].get_text())\n",
    "    \n",
    "print(title)\n",
    "print(artist)\n",
    "\n",
    "# each list becomes a column\n",
    "songs = pd.DataFrame({\"title\":title,\n",
    "                       \"artist\":artist,\n",
    "                      })"
   ]
  },
  {
   "cell_type": "code",
   "execution_count": 15,
   "metadata": {},
   "outputs": [
    {
     "data": {
      "text/html": [
       "<div>\n",
       "<style scoped>\n",
       "    .dataframe tbody tr th:only-of-type {\n",
       "        vertical-align: middle;\n",
       "    }\n",
       "\n",
       "    .dataframe tbody tr th {\n",
       "        vertical-align: top;\n",
       "    }\n",
       "\n",
       "    .dataframe thead th {\n",
       "        text-align: right;\n",
       "    }\n",
       "</style>\n",
       "<table border=\"1\" class=\"dataframe\">\n",
       "  <thead>\n",
       "    <tr style=\"text-align: right;\">\n",
       "      <th></th>\n",
       "      <th>title</th>\n",
       "      <th>artist</th>\n",
       "    </tr>\n",
       "  </thead>\n",
       "  <tbody>\n",
       "    <tr>\n",
       "      <th>0</th>\n",
       "      <td>Easy On Me</td>\n",
       "      <td>Adele</td>\n",
       "    </tr>\n",
       "    <tr>\n",
       "      <th>1</th>\n",
       "      <td>Neem Er Één Van Mij</td>\n",
       "      <td>Mart Hoogkamer</td>\n",
       "    </tr>\n",
       "    <tr>\n",
       "      <th>2</th>\n",
       "      <td>Do It To It (feat. Cherish)</td>\n",
       "      <td>Acraze</td>\n",
       "    </tr>\n",
       "    <tr>\n",
       "      <th>3</th>\n",
       "      <td>Dat Heb Jij Gedaan</td>\n",
       "      <td>MEAU</td>\n",
       "    </tr>\n",
       "    <tr>\n",
       "      <th>4</th>\n",
       "      <td>Schiddi Widdi Witt</td>\n",
       "      <td>Gino Graus</td>\n",
       "    </tr>\n",
       "  </tbody>\n",
       "</table>\n",
       "</div>"
      ],
      "text/plain": [
       "                         title          artist\n",
       "0                   Easy On Me           Adele\n",
       "1          Neem Er Één Van Mij  Mart Hoogkamer\n",
       "2  Do It To It (feat. Cherish)          Acraze\n",
       "3           Dat Heb Jij Gedaan            MEAU\n",
       "4           Schiddi Widdi Witt      Gino Graus"
      ]
     },
     "execution_count": 15,
     "metadata": {},
     "output_type": "execute_result"
    }
   ],
   "source": [
    "songs.head()"
   ]
  },
  {
   "cell_type": "code",
   "execution_count": 16,
   "metadata": {},
   "outputs": [],
   "source": [
    "# this is the website to collect the data of top 100 songs from India\n",
    "url = 'http://www.popvortex.com/music/india/top-songs.php'"
   ]
  },
  {
   "cell_type": "code",
   "execution_count": 17,
   "metadata": {},
   "outputs": [
    {
     "data": {
      "text/plain": [
       "200"
      ]
     },
     "execution_count": 17,
     "metadata": {},
     "output_type": "execute_result"
    }
   ],
   "source": [
    "# download html with a get request\n",
    "response1 = requests.get(url)\n",
    "response1.status_code"
   ]
  },
  {
   "cell_type": "code",
   "execution_count": 18,
   "metadata": {},
   "outputs": [
    {
     "data": {
      "text/plain": [
       "[<div class=\"chart-content col-xs-12 col-sm-8\"><p class=\"title-artist\"><cite class=\"title\">love nwantiti (feat. Axel &amp; DJ Yo) [Remix]</cite><em class=\"artist\">CKay</em></p><ul><li><strong>Genre</strong>: World</li><li><strong>Release Date</strong>: 10 September 2021</li></ul><a aria-label=\"Stream love nwantiti (feat. Axel &amp;amp; DJ Yo) [Remix] - CKay on Apple Music\" class=\"buy-button button\" href=\"https://music.apple.com/in/album/love-nwantiti-feat-axel-dj-yo-remix/1585195514?i=1585195519&amp;uo=2&amp;partnerId=11&amp;at=10l4UI&amp;app=music&amp;ct=music-songs\" rel=\"nofollow noopener\">Listen on Apple Music</a> <a aria-label=\"Buy love nwantiti (feat. Axel &amp;amp; DJ Yo) [Remix] - CKay on iTunes\" class=\"buy-button button\" href=\"https://music.apple.com/in/album/love-nwantiti-feat-axel-dj-yo-remix/1585195514?i=1585195519&amp;uo=2&amp;partnerId=11&amp;at=10l4UI&amp;app=itunes&amp;ct=music-songs\" rel=\"nofollow noopener\">Buy on iTunes</a> <a aria-label=\"Buy love nwantiti (feat. Axel &amp;amp; DJ Yo) [Remix] - CKay on Amazon\" class=\"amazon-buy button\" href=\"https://www.amazon.com/gp/search?ie=UTF8&amp;keywords=love+nwantiti+%28feat.+Axel+%26+DJ+Yo%29+%5BRemix%5D+CKay&amp;tag=popv0f-20&amp;search-alias=digital-music\" rel=\"nofollow noopener\" target=\"_blank\">Buy on Amazon</a> <div class=\"social-share\"><a class=\"facebook-share-button\" href=\"javascript: void(0)\" onclick=\"window.open('https://www.facebook.com/dialog/feed?app_id=178831188827052&amp;display=popup&amp;description=love+nwantiti+%28feat.+Axel+%26+DJ+Yo%29+%5BRemix%5D+by+CKay+is+currently+at+number+1+on+the+iTunes+India+top+100+songs+chart.&amp;link=http%3A%2F%2Fwww.popvortex.com%2Fmusic%2Findia%2Ftop-songs.php&amp;redirect_uri=http%3A%2F%2Fwww.popvortex.com%2Fpopup-close.html&amp;picture=https%3A%2F%2Fis2-ssl.mzstatic.com%2Fimage%2Fthumb%2FMusic115%2Fv4%2Fbd%2Fec%2F6b%2Fbdec6b83-07e5-5e64-2b80-f97f5364f580%2F190296453250.jpg%2F170x170bb.png','sharer','toolbar=0,status=0,width=548,height=325');\"><img alt=\"Share on Facebook\" height=\"20\" src=\"../../images/facebook-share.png\" width=\"55\"/></a> <a class=\"pinterest-share-button\" data-pin-config=\"none\" data-pin-do=\"buttonPin\" href=\"//pinterest.com/pin/create/button/?url=http%3A%2F%2Fwww.popvortex.com%2Fmusic%2Findia%2Ftop-songs.php&amp;media=https%3A%2F%2Fis2-ssl.mzstatic.com%2Fimage%2Fthumb%2FMusic115%2Fv4%2Fbd%2Fec%2F6b%2Fbdec6b83-07e5-5e64-2b80-f97f5364f580%2F190296453250.jpg%2F1200x1200bb.png&amp;description=love nwantiti (feat. Axel &amp; DJ Yo) [Remix] - CKay\"><img alt=\"Pinterest Button\" src=\"//assets.pinterest.com/images/pidgets/pin_it_button.png\"/></a> <a class=\"tweet-button\" href=\"https://twitter.com/intent/tweet?text=love+nwantiti+%28feat.+Axel+%26+DJ+Yo%29+%5BRemix%5D+by+CKay+is+%231+on+iTunes+India+top+100+songs+chart.&amp;hashtags=iTunes&amp;url=http://www.popvortex.com/music/india/top-songs.php\"><span></span>Tweet</a></div></div>]"
      ]
     },
     "execution_count": 18,
     "metadata": {},
     "output_type": "execute_result"
    }
   ],
   "source": [
    "spoon = BeautifulSoup(response1.content, \"html.parser\")\n",
    "spoon.select('#chart-position-1 > div.chart-content.col-xs-12.col-sm-8')"
   ]
  },
  {
   "cell_type": "code",
   "execution_count": 19,
   "metadata": {},
   "outputs": [
    {
     "name": "stdout",
     "output_type": "stream",
     "text": [
      "['love nwantiti (feat. Axel & DJ Yo) [Remix]', 'Bijlee Bijlee', 'Raataan Lambiyan', 'Jugnu (feat. Nikhita Gandhi)', 'Manike Mage Hithe', 'Tattoo Waaliye', 'Voice Of Unity (From \"Maanaadu\")', 'STAY', 'Ranjha', 'Lover', 'Mann Bharryaa 2.0', 'Life Goes On', 'Bunty Aur Babli 2', 'Voice Of Unity', 'Ma Belle', 'INDUSTRY BABY', 'Perfect', 'Where Are You', 'Easy On Me', 'Polozhenie', 'Soul of Doctor (Theme)', 'Rhtdm  Flip', 'Insane', 'Raataan Lambiyan (From \"Shershaah\")', 'Srivalli [From \"Pushpa - The Rise (Part - 01)\"]', 'Racing Into the Night (Ringtone Remix)', 'Filhaal2 Mohabbat (feat. Akshay Kumar, Nupur Sanon & Ammy Virk)', 'Rangi Saari', 'Я буду ебать (feat. IHI)', 'Maanaadu Theme', 'Scam 1992 Theme', 'Unstoppable', 'Shiddat Title Track', 'Sooryavanshi Theme', \"Happy B'day\", 'Tum Tum (From \"Enemy - Tamil\")', 'Luv Ju', 'Krishna Krish Flute', 'The Good Part', 'Saara Kaattrae', 'Everyday Normal Guy 2', 'Seventeen', 'Meri Zindagi Hai Tu', 'Desires', 'Love Nwantiti (feat. MCqasim) [German Remix]', 'Thee Minnal (From \"Minnal Murali\")', 'Hold On', 'Score', \"Dhanush Kodi's Theme\", 'Shape of You', 'Challa', 'Kaun Tujhe', 'Kaththi (Theme)', 'New India', 'Ik Onkar', 'A Love for Life', 'Brown Munde', 'Khaabon Ke Parinday', 'Wahran', 'Soul of Doctor (Theme) [From \"Doctor\"]', 'Naatu Naatu (From \"RRR\")', 'Doctor Theme (Background Score)', 'Najaa (From \"Sooryavanshi\")', 'All the Way Up (feat. French Montana & Infared)', 'KGF THEME (feat. Rosh Blazze)', 'Snehithane X In My Bed (Remix)', 'Take You Dancing', 'Meri Zindagi Hai Tu (From \"Satyameva Jayate 2\")', 'First Kiss', 'We Rollin', 'Chitta', 'Darshana (From \"Hridayam\")', 'MONEY', 'Barbaadiyan', 'Save Your Tears (Remix)', 'Chal Koi Na (Let it go)', 'Cold Heart (PNAU Remix)', 'Manniley Eeramundu (From \"Jai Bhim\")', 'Thalaivar Rampage Theme Music (Instrumental)', 'Gumsum', 'Valimai Motion Poster Theme (From \"Valimai\")', 'Mere Yaaraa (From \"Sooryavanshi\")', 'Distance Love', 'Shri Krishna Govind Hare Murari', 'Leharaayi (From \"Most Eligible Bachelor\")', 'idfc', 'Do Gallan', 'Leave The Door Open', 'Khoya Paaya - Female Version', 'Khalnayak', 'Kalle Kalle (From \"Chandigarh Kare Aashiqui\")', 'Parshawan', 'LA FAMA (feat. The Weeknd)', 'Parshawan (Lofi Remix)', 'Kamli (From \"Hum Do Hamare Do\")', 'Cheri Cheri Lady (New Version)', 'Raataan Lambiyan (Lofi Flip)', 'I Me Mine (2021 Mix)', 'Party Mashup (By DJ NYK)', 'traitor']\n",
      "['CKay', 'Harrdy Sandhu', 'Tanishk Bagchi, Jubin Nautiyal & Asees Kaur', 'Badshah', 'Chamath Sangeeth, Yohani & Satheeshan', 'Shankar-Ehsaan-Loy, Neha Kakkar & Pardeep Sran', 'Yuvan Shankar Raja, Silambarasan TR & Arivu', 'The Kid LAROI & Justin Bieber', 'Jasleen Royal & B. Praak', 'Diljit Dosanjh', 'B. Praak', 'Oliver Tree', 'Shankar-Ehsaan-Loy, Siddharth Mahadevan & Bohemia', 'Yuvan Shankar Raja, Silambarasan TR & Arivu', 'AP Dhillon & Amari', 'Lil Nas X & Jack Harlow', 'Ed Sheeran', 'Otnicka', 'Adele', 'T3NZU', 'Anirudh Ravichander & Niranjana Ramanan', 'SAM BOI', 'AP Dhillon, Shinda Kahlon, Gurinder Gill & Gminxr', 'Tanishk Bagchi, Jubin Nautiyal & Asees Kaur', 'Sid Sriram & Devi Sri Prasad', 'Lilorx', 'B. Praak', 'Kavita Seth & Kanishk Seth', 'Moreart', 'Yuvan Shankar Raja', 'Achint', 'Sia', 'Manan Bhardwaj', 'Lijo George', 'Sachin Sanghvi, Jigar Saraiya, Varun Dhavan & D Soldierz', 'Thaman S., Sri Vardhini, Aditi Bhavaraju, Satya Yamini, Roshini JKV & Tejaswini', 'Shankar-Ehsaan-Loy & Arijit Singh', 'Lakhinandan Lahon & Instrumental', 'AJR', 'Shreya Ghoshal & Sid Sriram', 'Jon Lajoie', 'Alessia Cara', 'Jubin Nautiyal & Neeti Mohan', 'AP Dhillon & Gurinder Gill', 'CKay', 'Marthyan & Sushin Shyam', 'Arjan Dhillon', 'Arjan Dhillon', 'Yuvan Shankar Raja', 'Ed Sheeran', 'Rabbi', 'Palak Muchhal', 'Anirudh Ravichander', 'Shashwat Sachdev', 'A. R. Rahman & Harshdeep Kaur', 'G. V. Prakash Kumar, Navin Iyer & Chennai Symphony', 'AP Dhillon, Gminxr, Gurinder Gill & Shinda Kahlon', 'Alyssa Mendonsa & Mohit Chauhan', 'Randall', 'Anirudh Ravichander & Niranjana Ramanan', 'Rahul Sipligunj, Kaala Bhairava & M.M. Keeravani', 'Anirudh Ravichander', 'Tanishk Bagchi, Pav Dharia & Nikhita Gandhi', 'Fat Joe & Remy Ma', 'DJ SID Jhansi', 'Shubham Rangra & Subhash Chand', 'Jason Derulo', 'Jubin Nautiyal, Neeti Mohan, Rochak Kohli & Nusrat Fateh Ali Khan', 'Justin Prabhakaran', 'Shubh', 'Manan Bhardwaj', 'Hesham Abdul Wahab & Darshana Rajendran', 'LISA', 'Sachet Tandon, Nikhita Gandhi, Madhubanti Bagchi & Sachin-Jigar', 'The Weeknd & Ariana Grande', 'Jonita Gandhi', 'Elton John & Dua Lipa', 'Sean Roldan, Vaikom Vijayalakshmi & Yugabharathi', 'D. Imman', 'Akanksha Bhandari', 'Yuvan Shankar Raja', 'Arijit Singh, Neeti Mohan, Kaushik, Guddu & Akash', 'Grewal & Pathania Zehr Vibe', 'Jubin Nautiyal', 'Sid Sriram & Gopi Sundar', 'blackbear', 'Neha Kakkar & Rohanpreet Singh', 'Bruno Mars, Anderson .Paak & Silk Sonic', 'Jasleen Royal', 'Kulbir Jhinjer', 'Priya Saraiya & Sachin-Jigar', 'Harnoor', 'ROSALÍA', 'WORMONO', 'Sachin-Jigar, Jubin Nautiyal & Divya Kumar', 'Modern Talking', 'VIBIE, Jubin Nautiyal, Asees Kaur & Tanishk Bagchi', 'The Beatles', 'DJ NYK, Badshah, Sachin-Jigar, Akasa, Rashmeet Kaur, Asees Kaur & Shamur', 'Olivia Rodrigo']\n"
     ]
    }
   ],
   "source": [
    "# extracting all the title and artist names form the website\n",
    "title1 = []\n",
    "artist1 = []\n",
    "\n",
    "num_iter = len(spoon.select('cite.title'))\n",
    "\n",
    "for i in range(num_iter):\n",
    "    title1.append(spoon.select('cite.title')[i].get_text())\n",
    "    artist1.append(spoon.select('em.artist')[i].get_text())\n",
    "    \n",
    "print(title1)\n",
    "print(artist1)\n",
    "\n",
    "# each list becomes a column\n",
    "songs1 = pd.DataFrame({\"title\":title1,\n",
    "                       \"artist\":artist1,\n",
    "                      })"
   ]
  },
  {
   "cell_type": "code",
   "execution_count": 20,
   "metadata": {},
   "outputs": [
    {
     "data": {
      "text/html": [
       "<div>\n",
       "<style scoped>\n",
       "    .dataframe tbody tr th:only-of-type {\n",
       "        vertical-align: middle;\n",
       "    }\n",
       "\n",
       "    .dataframe tbody tr th {\n",
       "        vertical-align: top;\n",
       "    }\n",
       "\n",
       "    .dataframe thead th {\n",
       "        text-align: right;\n",
       "    }\n",
       "</style>\n",
       "<table border=\"1\" class=\"dataframe\">\n",
       "  <thead>\n",
       "    <tr style=\"text-align: right;\">\n",
       "      <th></th>\n",
       "      <th>title</th>\n",
       "      <th>artist</th>\n",
       "    </tr>\n",
       "  </thead>\n",
       "  <tbody>\n",
       "    <tr>\n",
       "      <th>0</th>\n",
       "      <td>love nwantiti (feat. Axel &amp; DJ Yo) [Remix]</td>\n",
       "      <td>CKay</td>\n",
       "    </tr>\n",
       "    <tr>\n",
       "      <th>1</th>\n",
       "      <td>Bijlee Bijlee</td>\n",
       "      <td>Harrdy Sandhu</td>\n",
       "    </tr>\n",
       "    <tr>\n",
       "      <th>2</th>\n",
       "      <td>Raataan Lambiyan</td>\n",
       "      <td>Tanishk Bagchi, Jubin Nautiyal &amp; Asees Kaur</td>\n",
       "    </tr>\n",
       "    <tr>\n",
       "      <th>3</th>\n",
       "      <td>Jugnu (feat. Nikhita Gandhi)</td>\n",
       "      <td>Badshah</td>\n",
       "    </tr>\n",
       "    <tr>\n",
       "      <th>4</th>\n",
       "      <td>Manike Mage Hithe</td>\n",
       "      <td>Chamath Sangeeth, Yohani &amp; Satheeshan</td>\n",
       "    </tr>\n",
       "  </tbody>\n",
       "</table>\n",
       "</div>"
      ],
      "text/plain": [
       "                                        title  \\\n",
       "0  love nwantiti (feat. Axel & DJ Yo) [Remix]   \n",
       "1                               Bijlee Bijlee   \n",
       "2                            Raataan Lambiyan   \n",
       "3                Jugnu (feat. Nikhita Gandhi)   \n",
       "4                           Manike Mage Hithe   \n",
       "\n",
       "                                        artist  \n",
       "0                                         CKay  \n",
       "1                                Harrdy Sandhu  \n",
       "2  Tanishk Bagchi, Jubin Nautiyal & Asees Kaur  \n",
       "3                                      Badshah  \n",
       "4        Chamath Sangeeth, Yohani & Satheeshan  "
      ]
     },
     "execution_count": 20,
     "metadata": {},
     "output_type": "execute_result"
    }
   ],
   "source": [
    "#  extracted 100 new top songs from india\n",
    "songs1.head(5)"
   ]
  },
  {
   "cell_type": "code",
   "execution_count": null,
   "metadata": {},
   "outputs": [],
   "source": [
    "top_songs = pd.concat([songs, songs1], axis=0).reset_index()\n",
    "# top_songs"
   ]
  },
  {
   "cell_type": "code",
   "execution_count": 22,
   "metadata": {},
   "outputs": [],
   "source": [
    "top_songs = top_songs.drop(['index'], axis=1)"
   ]
  },
  {
   "cell_type": "code",
   "execution_count": 24,
   "metadata": {},
   "outputs": [],
   "source": [
    "# Saving files to csv format\n",
    "# top_songs.to_csv('top_100_songs.csv', index=False)\n",
    "# top_songs.to_excel('top_songs.xls', index=False)"
   ]
  },
  {
   "cell_type": "code",
   "execution_count": 25,
   "metadata": {},
   "outputs": [],
   "source": [
    "# import pandas as pd \n",
    "\n",
    "# search_song = str(input('search top songs you are intrested: ')) \n",
    "\n",
    "\n",
    "# title_search = songs['title'].str.contains(search_song).any()\n",
    "# if(title_search == True):\n",
    "#     print(\"Here is your song: \" + songs[songs['title'].str.contains(search_song)]['title'])\n",
    "# elif(title_search == False):\n",
    "#     print(\"we can recommend this song: \" + songs['title'].sample())\n"
   ]
  },
  {
   "cell_type": "markdown",
   "metadata": {},
   "source": [
    "# 1st prototype"
   ]
  },
  {
   "cell_type": "code",
   "execution_count": 26,
   "metadata": {},
   "outputs": [
    {
     "name": "stdout",
     "output_type": "stream",
     "text": [
      "search songs or artist you are intrested: kkkk\n"
     ]
    },
    {
     "data": {
      "text/plain": [
       "'Not in the list'"
      ]
     },
     "execution_count": 26,
     "metadata": {},
     "output_type": "execute_result"
    }
   ],
   "source": [
    "from random import randint\n",
    "\n",
    "def songs (data=top_songs):\n",
    "    song =  str(input(\"search songs or artist you are intrested: \"))\n",
    "    for i in range(len(top_songs)):\n",
    "        if top_songs['title'][i] == song:\n",
    "            rand_number = randint(0,len(top_songs))\n",
    "            return(print(\"I would recommend you to listen to: \\\"\", top_songs['title'][rand_number], \"\\\" by\", top_songs['artist'][rand_number]))\n",
    "        elif top_songs['artist'][i] == song:\n",
    "            rand_number = randint(0,len(top_songs))\n",
    "            return(print(\"I would recommend you to listen to: \\\"\", top_songs['title'][rand_number], \"\\\" by\", top_songs['artist'][rand_number]))\n",
    "    return (\"Not in the list\")\n",
    "songs()"
   ]
  },
  {
   "cell_type": "markdown",
   "metadata": {},
   "source": [
    "# 2nd prototype"
   ]
  },
  {
   "cell_type": "markdown",
   "metadata": {},
   "source": [
    "# Lab | API wrappers - Create your collection of songs & audio features"
   ]
  },
  {
   "cell_type": "code",
   "execution_count": 27,
   "metadata": {},
   "outputs": [],
   "source": [
    "import spotipy\n",
    "from spotipy.oauth2 import SpotifyClientCredentials\n",
    "\n",
    "secrets_file = open(\"secrets.txt\",\"r\")\n",
    "string = secrets_file.read()\n",
    "string.split('\\n')\n",
    "secrets_dict={}\n",
    "for line in string.split('\\n'):\n",
    "    if len(line) > 0:\n",
    "        secrets_dict[line.split(':')[0]]=line.split(':')[1]\n",
    "# secrets_dict"
   ]
  },
  {
   "cell_type": "code",
   "execution_count": 28,
   "metadata": {},
   "outputs": [],
   "source": [
    "#Initialize SpotiPy with user credentials\n",
    "sp = spotipy.Spotify(auth_manager=SpotifyClientCredentials(client_id=secrets_dict['cid'],\n",
    "                                                           client_secret=secrets_dict['csecret']))"
   ]
  },
  {
   "cell_type": "code",
   "execution_count": 29,
   "metadata": {},
   "outputs": [],
   "source": [
    "# def call_playlist(creator, playlist_id):\n",
    "    \n",
    "#     #step1\n",
    "\n",
    "#     playlist_features_list = [\"artist\",\"album\",\"track_name\",  \"track_id\",\"danceability\",\"energy\",\"key\",\"loudness\",\"mode\", \"speechiness\",\"instrumentalness\",\"liveness\",\"valence\",\"tempo\", \"duration_ms\",\"time_signature\"]\n",
    "    \n",
    "#     playlist_df = pd.DataFrame(columns = playlist_features_list)\n",
    "    \n",
    "#     #step2\n",
    "    \n",
    "#     playlist = sp.user_playlist_tracks(creator, playlist_id)[\"items\"]\n",
    "#     for track in playlist:\n",
    "#         # Create empty dict\n",
    "#         playlist_features = {}\n",
    "#         # Get metadata\n",
    "#         playlist_features[\"artist\"] = track[\"track\"][\"album\"][\"artists\"][0][\"name\"]\n",
    "#         playlist_features[\"album\"] = track[\"track\"][\"album\"][\"name\"]\n",
    "#         playlist_features[\"track_name\"] = track[\"track\"][\"name\"]\n",
    "#         playlist_features[\"track_id\"] = track[\"track\"][\"id\"]\n",
    "        \n",
    "#         # Get audio features\n",
    "#         audio_features = sp.audio_features(playlist_features[\"track_id\"])[0]\n",
    "#         for feature in playlist_features_list[4:]:\n",
    "#             playlist_features[feature] = audio_features[feature]\n",
    "        \n",
    "#         # Concat the dfs\n",
    "#         track_df = pd.DataFrame(playlist_features, index = [0])\n",
    "#         playlist_df = pd.concat([playlist_df, track_df], ignore_index = True)\n",
    "\n",
    "#     #Step 3\n",
    "        \n",
    "#     return playlist_df\n",
    "\n",
    "# call_playlist(\"spotify\",\"0BUNSGihi2mrhQu3fPcVim\").head()"
   ]
  },
  {
   "cell_type": "code",
   "execution_count": 30,
   "metadata": {},
   "outputs": [],
   "source": [
    "# importing the songs from the playlist\n",
    "playlist = sp.user_playlist_tracks(\"spotify\", \"0BUNSGihi2mrhQu3fPcVim\")"
   ]
  },
  {
   "cell_type": "code",
   "execution_count": 31,
   "metadata": {},
   "outputs": [
    {
     "data": {
      "text/plain": [
       "dict_keys(['href', 'items', 'limit', 'next', 'offset', 'previous', 'total'])"
      ]
     },
     "execution_count": 31,
     "metadata": {},
     "output_type": "execute_result"
    }
   ],
   "source": [
    "playlist.keys()"
   ]
  },
  {
   "cell_type": "code",
   "execution_count": 32,
   "metadata": {},
   "outputs": [],
   "source": [
    "# playlist[\"items\"][0][\"track\"]"
   ]
  },
  {
   "cell_type": "code",
   "execution_count": 33,
   "metadata": {},
   "outputs": [
    {
     "data": {
      "text/plain": [
       "'Rainbow Connection'"
      ]
     },
     "execution_count": 33,
     "metadata": {},
     "output_type": "execute_result"
    }
   ],
   "source": [
    "# checking the track names from playlist\n",
    "playlist[\"items\"][0][\"track\"][\"name\"]"
   ]
  },
  {
   "cell_type": "code",
   "execution_count": 34,
   "metadata": {},
   "outputs": [
    {
     "data": {
      "text/plain": [
       "813"
      ]
     },
     "execution_count": 34,
     "metadata": {},
     "output_type": "execute_result"
    }
   ],
   "source": [
    "# total no of songs\n",
    "playlist['total']"
   ]
  },
  {
   "cell_type": "code",
   "execution_count": 35,
   "metadata": {},
   "outputs": [],
   "source": [
    "#  Importing all thes tracks from spotify api playlist\n",
    "from random import randint\n",
    "from time import sleep\n",
    "\n",
    "def get_playlist_tracks(playlist_id):\n",
    "    results = sp.user_playlist_tracks(\"spotify\",playlist_id)\n",
    "    tracks = results['items']\n",
    "    while results['next']!=None:\n",
    "        results = sp.next(results)\n",
    "        tracks = tracks + results['items']\n",
    "        sleep(randint(1,3))\n",
    "    return tracks"
   ]
  },
  {
   "cell_type": "code",
   "execution_count": 36,
   "metadata": {},
   "outputs": [
    {
     "data": {
      "text/plain": [
       "813"
      ]
     },
     "execution_count": 36,
     "metadata": {},
     "output_type": "execute_result"
    }
   ],
   "source": [
    "all_tracks = get_playlist_tracks(\"0BUNSGihi2mrhQu3fPcVim\")\n",
    "len(all_tracks)"
   ]
  },
  {
   "cell_type": "code",
   "execution_count": 37,
   "metadata": {},
   "outputs": [],
   "source": [
    "# getting all track uris \n",
    "def uri(all_tracks):\n",
    "    uri=[all_tracks[i]['track']['uri'] for i in range(len(all_tracks))]\n",
    "    return uri\n",
    "all_uri = uri(all_tracks)"
   ]
  },
  {
   "cell_type": "code",
   "execution_count": 38,
   "metadata": {},
   "outputs": [],
   "source": [
    "complete_all_uri = pd.DataFrame(all_uri, columns=['uri'])"
   ]
  },
  {
   "cell_type": "code",
   "execution_count": 39,
   "metadata": {},
   "outputs": [
    {
     "data": {
      "text/plain": [
       "(813, 1)"
      ]
     },
     "execution_count": 39,
     "metadata": {},
     "output_type": "execute_result"
    }
   ],
   "source": [
    "complete_all_uri.shape"
   ]
  },
  {
   "cell_type": "code",
   "execution_count": 54,
   "metadata": {},
   "outputs": [],
   "source": [
    "# getting all artists\n",
    "def artists(all_tracks):\n",
    "    artist=[all_tracks[i]['track']['artists'][0]['name'] for i in range(len(all_tracks))]\n",
    "    return artist\n",
    "all_artists = artists(all_tracks)"
   ]
  },
  {
   "cell_type": "code",
   "execution_count": 55,
   "metadata": {},
   "outputs": [],
   "source": [
    "complete_all_artists= pd.DataFrame(all_artists, columns=['artist'])\n",
    "# complete_all_artists"
   ]
  },
  {
   "cell_type": "code",
   "execution_count": 57,
   "metadata": {},
   "outputs": [],
   "source": [
    "# getting all track names\n",
    "def track_names(all_tracks):\n",
    "    names=[all_tracks[i]['track']['name'] for i in range(len(all_tracks))]\n",
    "    return names\n",
    "all_track_names = track_names(all_tracks)"
   ]
  },
  {
   "cell_type": "code",
   "execution_count": 58,
   "metadata": {},
   "outputs": [],
   "source": [
    "complete_track_names= pd.DataFrame(all_track_names, columns=['album'])\n",
    "# complete_track_names"
   ]
  },
  {
   "cell_type": "code",
   "execution_count": 59,
   "metadata": {},
   "outputs": [],
   "source": [
    "# getting audio features for all the tracks\n",
    "audio_features = [sp.audio_features(i) for i in (all_uri)]"
   ]
  },
  {
   "cell_type": "code",
   "execution_count": 60,
   "metadata": {},
   "outputs": [],
   "source": [
    "def flatten(input_list):\n",
    "    return [item for sublist in input_list for item in sublist]"
   ]
  },
  {
   "cell_type": "code",
   "execution_count": 61,
   "metadata": {},
   "outputs": [],
   "source": [
    "# flattening audio features \n",
    "features_new = flatten(audio_features)"
   ]
  },
  {
   "cell_type": "code",
   "execution_count": 62,
   "metadata": {},
   "outputs": [],
   "source": [
    "danceability = [features_new[i]['danceability'] for i in range(len(features_new))]\n",
    "energy = [features_new[i]['energy'] for i in range(len(features_new))]\n",
    "key = [features_new[i]['key'] for i in range(len(features_new))]\n",
    "loudness = [features_new[i]['loudness'] for i in range(len(features_new))]\n",
    "mode = [features_new[i]['mode'] for i in range(len(features_new))]\n",
    "speechiness = [features_new[i]['speechiness'] for i in range(len(features_new))]\n",
    "acousticness = [features_new[i]['acousticness'] for i in range(len(features_new))]\n",
    "instrumentalness = [features_new[i]['instrumentalness'] for i in range(len(features_new))]\n",
    "liveness = [features_new[i]['liveness'] for i in range(len(features_new))]\n",
    "valence = [features_new[i]['valence'] for i in range(len(features_new))]\n",
    "tempo = [features_new[i]['tempo'] for i in range(len(features_new))]"
   ]
  },
  {
   "cell_type": "code",
   "execution_count": 63,
   "metadata": {},
   "outputs": [],
   "source": [
    "# audio features in a data frame\n",
    "complete_features = pd.DataFrame.from_dict({'danceability':danceability, 'energy':energy, 'key':key, 'loudness':loudness, 'mode':mode, 'speechiness':speechiness, 'acousticness':acousticness, 'instrumentalness':instrumentalness, 'liveness':liveness, 'valence':valence, 'tempo':tempo})\n",
    "# complete_features"
   ]
  },
  {
   "cell_type": "code",
   "execution_count": 64,
   "metadata": {},
   "outputs": [
    {
     "data": {
      "text/html": [
       "<div>\n",
       "<style scoped>\n",
       "    .dataframe tbody tr th:only-of-type {\n",
       "        vertical-align: middle;\n",
       "    }\n",
       "\n",
       "    .dataframe tbody tr th {\n",
       "        vertical-align: top;\n",
       "    }\n",
       "\n",
       "    .dataframe thead th {\n",
       "        text-align: right;\n",
       "    }\n",
       "</style>\n",
       "<table border=\"1\" class=\"dataframe\">\n",
       "  <thead>\n",
       "    <tr style=\"text-align: right;\">\n",
       "      <th></th>\n",
       "      <th>album</th>\n",
       "      <th>artist</th>\n",
       "      <th>uri</th>\n",
       "      <th>danceability</th>\n",
       "      <th>energy</th>\n",
       "      <th>key</th>\n",
       "      <th>loudness</th>\n",
       "      <th>mode</th>\n",
       "      <th>speechiness</th>\n",
       "      <th>acousticness</th>\n",
       "      <th>instrumentalness</th>\n",
       "      <th>liveness</th>\n",
       "      <th>valence</th>\n",
       "      <th>tempo</th>\n",
       "    </tr>\n",
       "  </thead>\n",
       "  <tbody>\n",
       "    <tr>\n",
       "      <th>0</th>\n",
       "      <td>Rainbow Connection</td>\n",
       "      <td>The Muppets</td>\n",
       "      <td>spotify:track:1SJ4ycWow4yz6z4oFz8NAG</td>\n",
       "      <td>0.526</td>\n",
       "      <td>0.413</td>\n",
       "      <td>9</td>\n",
       "      <td>-7.674</td>\n",
       "      <td>1</td>\n",
       "      <td>0.0278</td>\n",
       "      <td>0.42800</td>\n",
       "      <td>0.000000</td>\n",
       "      <td>0.1260</td>\n",
       "      <td>0.211</td>\n",
       "      <td>115.936</td>\n",
       "    </tr>\n",
       "    <tr>\n",
       "      <th>1</th>\n",
       "      <td>Somewhere Over The Rainbow_What A Wonderful World</td>\n",
       "      <td>Israel Kamakawiwo'ole</td>\n",
       "      <td>spotify:track:25U7raB3ZSszayTYClh4hF</td>\n",
       "      <td>0.663</td>\n",
       "      <td>0.168</td>\n",
       "      <td>0</td>\n",
       "      <td>-13.725</td>\n",
       "      <td>1</td>\n",
       "      <td>0.0448</td>\n",
       "      <td>0.92800</td>\n",
       "      <td>0.000057</td>\n",
       "      <td>0.3610</td>\n",
       "      <td>0.678</td>\n",
       "      <td>85.005</td>\n",
       "    </tr>\n",
       "    <tr>\n",
       "      <th>2</th>\n",
       "      <td>What a Wonderful World</td>\n",
       "      <td>Joey Ramone</td>\n",
       "      <td>spotify:track:04cdEVbQPb8BJb7593e5fO</td>\n",
       "      <td>0.422</td>\n",
       "      <td>0.878</td>\n",
       "      <td>5</td>\n",
       "      <td>-4.863</td>\n",
       "      <td>1</td>\n",
       "      <td>0.0442</td>\n",
       "      <td>0.00935</td>\n",
       "      <td>0.332000</td>\n",
       "      <td>0.2010</td>\n",
       "      <td>0.496</td>\n",
       "      <td>84.044</td>\n",
       "    </tr>\n",
       "    <tr>\n",
       "      <th>3</th>\n",
       "      <td>One Day / Reckoning Song (Wankelmut Remix) [Ra...</td>\n",
       "      <td>Asaf Avidan &amp; the Mojos</td>\n",
       "      <td>spotify:track:5HSkycOEtb9iQ7cg1Oyqmu</td>\n",
       "      <td>0.821</td>\n",
       "      <td>0.676</td>\n",
       "      <td>3</td>\n",
       "      <td>-6.366</td>\n",
       "      <td>0</td>\n",
       "      <td>0.0547</td>\n",
       "      <td>0.18700</td>\n",
       "      <td>0.000100</td>\n",
       "      <td>0.0927</td>\n",
       "      <td>0.559</td>\n",
       "      <td>119.012</td>\n",
       "    </tr>\n",
       "    <tr>\n",
       "      <th>4</th>\n",
       "      <td>What A Wonderful World - Single Version</td>\n",
       "      <td>Louis Armstrong</td>\n",
       "      <td>spotify:track:2pp3RfqX5cb1BAnmNi4Nej</td>\n",
       "      <td>0.388</td>\n",
       "      <td>0.327</td>\n",
       "      <td>5</td>\n",
       "      <td>-12.522</td>\n",
       "      <td>1</td>\n",
       "      <td>0.0317</td>\n",
       "      <td>0.73200</td>\n",
       "      <td>0.001030</td>\n",
       "      <td>0.1500</td>\n",
       "      <td>0.222</td>\n",
       "      <td>107.894</td>\n",
       "    </tr>\n",
       "    <tr>\n",
       "      <th>...</th>\n",
       "      <td>...</td>\n",
       "      <td>...</td>\n",
       "      <td>...</td>\n",
       "      <td>...</td>\n",
       "      <td>...</td>\n",
       "      <td>...</td>\n",
       "      <td>...</td>\n",
       "      <td>...</td>\n",
       "      <td>...</td>\n",
       "      <td>...</td>\n",
       "      <td>...</td>\n",
       "      <td>...</td>\n",
       "      <td>...</td>\n",
       "      <td>...</td>\n",
       "    </tr>\n",
       "    <tr>\n",
       "      <th>808</th>\n",
       "      <td>Cold Heart - PNAU Remix</td>\n",
       "      <td>Elton John</td>\n",
       "      <td>spotify:track:6zSpb8dQRaw0M1dK8PBwQz</td>\n",
       "      <td>0.796</td>\n",
       "      <td>0.798</td>\n",
       "      <td>1</td>\n",
       "      <td>-6.312</td>\n",
       "      <td>1</td>\n",
       "      <td>0.0317</td>\n",
       "      <td>0.03400</td>\n",
       "      <td>0.000042</td>\n",
       "      <td>0.0952</td>\n",
       "      <td>0.942</td>\n",
       "      <td>116.032</td>\n",
       "    </tr>\n",
       "    <tr>\n",
       "      <th>809</th>\n",
       "      <td>Everything That I Want</td>\n",
       "      <td>MAVV</td>\n",
       "      <td>spotify:track:1A2rlbdSXZWyPXkEm3AXK5</td>\n",
       "      <td>0.635</td>\n",
       "      <td>0.516</td>\n",
       "      <td>3</td>\n",
       "      <td>-8.677</td>\n",
       "      <td>1</td>\n",
       "      <td>0.0341</td>\n",
       "      <td>0.12500</td>\n",
       "      <td>0.000000</td>\n",
       "      <td>0.1200</td>\n",
       "      <td>0.127</td>\n",
       "      <td>114.074</td>\n",
       "    </tr>\n",
       "    <tr>\n",
       "      <th>810</th>\n",
       "      <td>The Loophole</td>\n",
       "      <td>Garfunkel and Oates</td>\n",
       "      <td>spotify:track:6B89ADIwxCw60PHZN6Kdp4</td>\n",
       "      <td>0.569</td>\n",
       "      <td>0.367</td>\n",
       "      <td>5</td>\n",
       "      <td>-5.178</td>\n",
       "      <td>1</td>\n",
       "      <td>0.0878</td>\n",
       "      <td>0.86200</td>\n",
       "      <td>0.000155</td>\n",
       "      <td>0.3370</td>\n",
       "      <td>0.823</td>\n",
       "      <td>169.768</td>\n",
       "    </tr>\n",
       "    <tr>\n",
       "      <th>811</th>\n",
       "      <td>Major Tom (Coming Home) - Adam K &amp; Soha Radio ...</td>\n",
       "      <td>Shiny Toy Guns</td>\n",
       "      <td>spotify:track:7nXXIXFSyDDPlfzCW9bdAa</td>\n",
       "      <td>0.732</td>\n",
       "      <td>0.764</td>\n",
       "      <td>10</td>\n",
       "      <td>-6.503</td>\n",
       "      <td>0</td>\n",
       "      <td>0.0631</td>\n",
       "      <td>0.16200</td>\n",
       "      <td>0.346000</td>\n",
       "      <td>0.3220</td>\n",
       "      <td>0.685</td>\n",
       "      <td>132.019</td>\n",
       "    </tr>\n",
       "    <tr>\n",
       "      <th>812</th>\n",
       "      <td>The Wreck of the Edmund Fitzgerald</td>\n",
       "      <td>Gordon Lightfoot</td>\n",
       "      <td>spotify:track:536L9C0N7vhYdibCJx3cI2</td>\n",
       "      <td>0.308</td>\n",
       "      <td>0.376</td>\n",
       "      <td>4</td>\n",
       "      <td>-15.240</td>\n",
       "      <td>1</td>\n",
       "      <td>0.0626</td>\n",
       "      <td>0.11600</td>\n",
       "      <td>0.000003</td>\n",
       "      <td>0.1660</td>\n",
       "      <td>0.158</td>\n",
       "      <td>186.047</td>\n",
       "    </tr>\n",
       "  </tbody>\n",
       "</table>\n",
       "<p>813 rows × 14 columns</p>\n",
       "</div>"
      ],
      "text/plain": [
       "                                                 album  \\\n",
       "0                                   Rainbow Connection   \n",
       "1    Somewhere Over The Rainbow_What A Wonderful World   \n",
       "2                               What a Wonderful World   \n",
       "3    One Day / Reckoning Song (Wankelmut Remix) [Ra...   \n",
       "4              What A Wonderful World - Single Version   \n",
       "..                                                 ...   \n",
       "808                            Cold Heart - PNAU Remix   \n",
       "809                             Everything That I Want   \n",
       "810                                       The Loophole   \n",
       "811  Major Tom (Coming Home) - Adam K & Soha Radio ...   \n",
       "812                 The Wreck of the Edmund Fitzgerald   \n",
       "\n",
       "                      artist                                   uri  \\\n",
       "0                The Muppets  spotify:track:1SJ4ycWow4yz6z4oFz8NAG   \n",
       "1      Israel Kamakawiwo'ole  spotify:track:25U7raB3ZSszayTYClh4hF   \n",
       "2                Joey Ramone  spotify:track:04cdEVbQPb8BJb7593e5fO   \n",
       "3    Asaf Avidan & the Mojos  spotify:track:5HSkycOEtb9iQ7cg1Oyqmu   \n",
       "4            Louis Armstrong  spotify:track:2pp3RfqX5cb1BAnmNi4Nej   \n",
       "..                       ...                                   ...   \n",
       "808               Elton John  spotify:track:6zSpb8dQRaw0M1dK8PBwQz   \n",
       "809                     MAVV  spotify:track:1A2rlbdSXZWyPXkEm3AXK5   \n",
       "810      Garfunkel and Oates  spotify:track:6B89ADIwxCw60PHZN6Kdp4   \n",
       "811           Shiny Toy Guns  spotify:track:7nXXIXFSyDDPlfzCW9bdAa   \n",
       "812         Gordon Lightfoot  spotify:track:536L9C0N7vhYdibCJx3cI2   \n",
       "\n",
       "     danceability  energy  key  loudness  mode  speechiness  acousticness  \\\n",
       "0           0.526   0.413    9    -7.674     1       0.0278       0.42800   \n",
       "1           0.663   0.168    0   -13.725     1       0.0448       0.92800   \n",
       "2           0.422   0.878    5    -4.863     1       0.0442       0.00935   \n",
       "3           0.821   0.676    3    -6.366     0       0.0547       0.18700   \n",
       "4           0.388   0.327    5   -12.522     1       0.0317       0.73200   \n",
       "..            ...     ...  ...       ...   ...          ...           ...   \n",
       "808         0.796   0.798    1    -6.312     1       0.0317       0.03400   \n",
       "809         0.635   0.516    3    -8.677     1       0.0341       0.12500   \n",
       "810         0.569   0.367    5    -5.178     1       0.0878       0.86200   \n",
       "811         0.732   0.764   10    -6.503     0       0.0631       0.16200   \n",
       "812         0.308   0.376    4   -15.240     1       0.0626       0.11600   \n",
       "\n",
       "     instrumentalness  liveness  valence    tempo  \n",
       "0            0.000000    0.1260    0.211  115.936  \n",
       "1            0.000057    0.3610    0.678   85.005  \n",
       "2            0.332000    0.2010    0.496   84.044  \n",
       "3            0.000100    0.0927    0.559  119.012  \n",
       "4            0.001030    0.1500    0.222  107.894  \n",
       "..                ...       ...      ...      ...  \n",
       "808          0.000042    0.0952    0.942  116.032  \n",
       "809          0.000000    0.1200    0.127  114.074  \n",
       "810          0.000155    0.3370    0.823  169.768  \n",
       "811          0.346000    0.3220    0.685  132.019  \n",
       "812          0.000003    0.1660    0.158  186.047  \n",
       "\n",
       "[813 rows x 14 columns]"
      ]
     },
     "execution_count": 64,
     "metadata": {},
     "output_type": "execute_result"
    }
   ],
   "source": [
    "# all top songs with audio features\n",
    "all_top_songs =pd.concat([complete_track_names,complete_all_artists,complete_all_uri,complete_features], axis=1)\n",
    "all_top_songs"
   ]
  },
  {
   "cell_type": "code",
   "execution_count": 66,
   "metadata": {},
   "outputs": [],
   "source": [
    "# Saving files to csv format\n",
    "# all_top_songs.to_csv('all_top_songs.csv', index=False)"
   ]
  },
  {
   "cell_type": "code",
   "execution_count": null,
   "metadata": {},
   "outputs": [],
   "source": []
  },
  {
   "cell_type": "code",
   "execution_count": null,
   "metadata": {},
   "outputs": [],
   "source": []
  }
 ],
 "metadata": {
  "kernelspec": {
   "display_name": "Python 3",
   "language": "python",
   "name": "python3"
  },
  "language_info": {
   "codemirror_mode": {
    "name": "ipython",
    "version": 3
   },
   "file_extension": ".py",
   "mimetype": "text/x-python",
   "name": "python",
   "nbconvert_exporter": "python",
   "pygments_lexer": "ipython3",
   "version": "3.7.4"
  }
 },
 "nbformat": 4,
 "nbformat_minor": 2
}
