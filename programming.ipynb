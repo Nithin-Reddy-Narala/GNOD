{
 "cells": [
  {
   "cell_type": "code",
   "execution_count": 17,
   "metadata": {},
   "outputs": [],
   "source": [
    "import numpy as np\n",
    "import matplotlib.pyplot as plt\n",
    "import pandas as pd\n",
    "import pickle\n",
    "from sklearn import cluster, datasets\n",
    "from sklearn.preprocessing import StandardScaler\n",
    "from matplotlib.lines import Line2D\n",
    "import matplotlib.pyplot as plt\n",
    "from sklearn.preprocessing import StandardScaler\n",
    "from sklearn.cluster import KMeans\n",
    "from random import randint\n",
    "import spotipy\n",
    "from spotipy.oauth2 import SpotifyClientCredentials"
   ]
  },
  {
   "cell_type": "code",
   "execution_count": 18,
   "metadata": {
    "slideshow": {
     "slide_type": "slide"
    }
   },
   "outputs": [],
   "source": [
    "top_100_songs = pd.read_csv('./top_100_songs.csv')"
   ]
  },
  {
   "cell_type": "code",
   "execution_count": 19,
   "metadata": {},
   "outputs": [],
   "source": [
    "after_clustering = pd.read_csv('all_top_songs_after_clustering.csv')"
   ]
  },
  {
   "cell_type": "code",
   "execution_count": 20,
   "metadata": {},
   "outputs": [],
   "source": [
    "all_top_songs = pd.read_csv('all_top_songs.csv')"
   ]
  },
  {
   "cell_type": "code",
   "execution_count": null,
   "metadata": {},
   "outputs": [],
   "source": [
    "cid = input('Please input your Spotify Client ID:')\n",
    "cs_id = input('Please input your Spotify Secret ID:')\n",
    "sp = spotipy.Spotify(auth_manager=SpotifyClientCredentials(client_id=cid,\n",
    "                                                           client_secret=cs_id))"
   ]
  },
  {
   "cell_type": "code",
   "execution_count": 22,
   "metadata": {},
   "outputs": [],
   "source": [
    "kmeans = pickle.load(open('kmean.pkl','rb'))\n",
    "scaler = pickle.load(open('standard.pkl','rb'))"
   ]
  },
  {
   "cell_type": "code",
   "execution_count": 27,
   "metadata": {},
   "outputs": [
    {
     "name": "stdout",
     "output_type": "stream",
     "text": [
      "search songs you are intrested: fghdjd\n",
      "search artist you are intrested: gfhvnvjdk\n",
      "Song does not exists, try another\n",
      "search songs you are intrested: yemito\n",
      "search artist you are intrested: Haricharan\n",
      "I would recommend you to listen: \" crazy b*tch \" by Buckcherry\n"
     ]
    }
   ],
   "source": [
    "def audio_features(song, artist):\n",
    "    search = artist + ' - '+ song\n",
    "    features = sp.audio_features(sp.search(q=search, limit=1)[\"tracks\"][\"items\"][0]['uri'])[0]\n",
    "    return features\n",
    "\n",
    "def songs (data=top_100_songs):\n",
    "    \n",
    "    song =  str(input(\"search songs you are intrested: \").lower())\n",
    "    artist =  str(input(\"search artist you are intrested: \").lower())\n",
    "    search = sp.search(q=song, type='track')\n",
    "    check = search[\"tracks\"][\"total\"] \n",
    "\n",
    "    while check == 0:\n",
    "        print(\"Song does not exists, try another\")\n",
    "        song =  str(input(\"search songs you are intrested: \").lower())\n",
    "        artist =  str(input(\"search artist you are intrested: \").lower())\n",
    "        search = sp.search(q=song, type='track')\n",
    "        check = search[\"tracks\"][\"total\"]\n",
    "\n",
    "    if ((top_100_songs[(top_100_songs['title'] == song) & (top_100_songs['artist'] == artist)].count()[0] > 0)):\n",
    "        rand_number = randint(0,len(top_100_songs))\n",
    "        print(\"I would recommend you to listen: \\\"\", top_100_songs['title'][rand_number], \"\\\" by\", top_100_songs['artist'][rand_number])\n",
    "    else:       \n",
    "        feature = audio_features(song,artist)\n",
    "        new_song = pd.DataFrame([feature])\n",
    "        new_song = new_song.drop(['type','id','uri','track_href','analysis_url','duration_ms','time_signature'],axis=1)\n",
    "        new_scaler = scaler.transform(new_song)\n",
    "        new_clusters = kmeans.predict(new_scaler)\n",
    "        cluster_final = after_clustering[after_clustering['cluster'] == list(new_clusters)[0]]\n",
    "        rand_number1 = randint(0,len(after_clustering))\n",
    "        print(\"I would recommend you to listen: \\\"\",after_clustering['song_title'][rand_number1], \"\\\" by\", after_clustering['artist'][rand_number1])\n",
    "    return\n",
    "songs() "
   ]
  },
  {
   "cell_type": "code",
   "execution_count": null,
   "metadata": {},
   "outputs": [],
   "source": []
  }
 ],
 "metadata": {
  "kernelspec": {
   "display_name": "Python 3",
   "language": "python",
   "name": "python3"
  },
  "language_info": {
   "codemirror_mode": {
    "name": "ipython",
    "version": 3
   },
   "file_extension": ".py",
   "mimetype": "text/x-python",
   "name": "python",
   "nbconvert_exporter": "python",
   "pygments_lexer": "ipython3",
   "version": "3.7.4"
  }
 },
 "nbformat": 4,
 "nbformat_minor": 2
}
